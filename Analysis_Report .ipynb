{
 "cells": [
  {
   "cell_type": "markdown",
   "metadata": {},Report
   "source": [
    "# A Report on the Bioinformatics Analysis of a SARS-CoV-2 Virus Genome and a Sequencing Reads Example"
   ]
  },
  {

   "cell_type": "markdown",
   "metadata": {},
   "source": [
    "## 1. Analysis of SARS-CoV-2 Virus Genome "
   ]
  },
  {
   "cell_type": "markdown",
   "metadata": {},
   "source": [
    "Any genome would have worked here, but I chose to analyze that of the SARS-CoV-2 virus (the virus that causes the COVID-19 disease) `MT365028.1.fa`."
   ]
  },
  {
   "cell_type": "markdown",
   "metadata": {},
   "source": [
    "###  1.1. Genome Size"
   ]
  },
  {
   "cell_type": "code",
   "execution_count": 1,
   "metadata": {},
   "outputs": [],
   "source": [
    "def read_genome(filename):\n",
    "\t\"Reads genome from a .fa 'filename'.\"\n",
    "\tf = open(filename)\n",
    "\tgenome = ''\n",
    "\tfor line in f:\n",
    "\t\tif not line.startswith('>') : # skip the header line (> symbol)\n",
    "\t\t\tgenome += line.rstrip()\n",
    "\tf.close()\n",
    "\treturn genome"
   ]
  },
  {
   "cell_type": "code",
   "execution_count": 2,
   "metadata": {},
   "outputs": [
    {
     "name": "stdout",
     "output_type": "stream",
     "text": [
      "The size of the genome read from 'data/SARS-CoV-2_virus_genomes/MT365028.1.fa' is 29891 nucleotides long.\n"
     ]
    }
   ],
   "source": [
    "filename = 'data/SARS-CoV-2_virus_genomes/MT365028.1.fa'\n",
    "genome = read_genome(filename)\n",
    "print(\"The size of the genome read from '%s' is %d nucleotides long.\" % (filename,  len(genome)))"
   ]
  },
  {
   "cell_type": "markdown",
   "metadata": {},
   "source": [
    "### 1.2. \tCalculating the GC_percentage (GC Content)\n",
    "\n",
    "The GC_percentage is the percentage of 'G' and 'C' nucleotides in the genome."
   ]
  },
  {
   "cell_type": "markdown",
   "metadata": {},
   "source": [
    "#### 1.2.1. Method1"
   ]
  },
  {
   "cell_type": "code",
   "execution_count": 9,
   "metadata": {},
   "outputs": [
    {
     "name": "stdout",
     "output_type": "stream",
     "text": [
      "\n",
      "The gc_percentage of the genome read from 'data/SRR11939920.fastq' by method1 is 37%.\n"
     ]
    }
   ],
   "source": [
    "def gc_percentage(genome) :\n",
    "\n",
    "\tno_c = genome.count('C')\n",
    "\tno_g = genome.count('G')\n",
    "\tlength_genome = len(genome)\n",
    "\tper_gc = float((no_c+no_g)*100/length_genome)\n",
    "\treturn per_gc\n",
    "\n",
    "print(\"\\nThe GC percentage of the genome read from '%s' by method1 is %d%%.\" % (filename, gc_percentage(genome)))"
   ]
  },
  {
   "cell_type": "markdown",
   "metadata": {},
   "source": [
    "Indeed, it is known from the literature that the GC content of SARS-CoV-2 viruses is 0.373 소 0.05."
   ]
  },
  {
   "cell_type": "markdown",
   "metadata": {},
   "source": [
    "#### 1.2.2. Method2"
   ]
  },
  {
   "cell_type": "code",
   "execution_count": 16,
   "metadata": {},
   "outputs": [
    {
     "name": "stdout",
     "output_type": "stream",
     "text": [
      "\n",
      "The GC percentage of the genome read from 'data/SRR11939920.fastq' by method2 is 37%.\n"
     ]
    }
   ],
   "source": [
    "nucleotidesDic = {'C':0, 'A':0, 'G':0, 'T':0, 'N':0}\n",
    "for base in genome:\n",
    "\tnucleotidesDic[base] += 1\n",
    "\n",
    "print(\"\\nThe GC percentage of the genome read from '%s' by method2 is %d%%.\" % (filename, float((nucleotidesDic['G']+nucleotidesDic['C'])*100/len(genome))))"
   ]
  },
  {
   "cell_type": "markdown",
   "metadata": {},
   "source": [
    "Indeed, it is known from the literature that the GC content of SARS-CoV-2 viruses is 0.373 소 0.05."
   ]
  },
  {
   "cell_type": "markdown",
   "metadata": {},
   "source": [
    "## 2. Analysis of an Example Sequencing Reads \n",
    "\n",
    "I will use as an example following Sequencing Reads: `SRR11939920.fastq` which was obtained from the following study: ([BioSample](https://www.ncbi.nlm.nih.gov/biosample/SAMN15151031)).\n",
    "\n",
    "I used the [SRA Toolkit](https://www.ncbi.nlm.nih.gov/books/NBK158900/) to download `SRR11939920.fastq`."
   ]
  },
  {
   "cell_type": "markdown",
   "metadata": {},ReportReport
   "source": [
    "### 2.1. Reading in the Sequences and their Qualities from Sequencing Reads \n",
    "\n",
    "The following script was employed to read the sequence reads and qualities from `SRR11939920.fastq`:"
   ]
  },
  {
   "cell_type": "code",
   "execution_count": 18,
   "metadata": {
    "scrolled": true
   },
   "outputs": [
    {
     "name": "stdout",
     "output_type": "stream",
     "text": [
      "\n",
      "The file 'data/SRR11939920.fastq' has 1033261 sequencing reads.\n"
     ]
    }
   ],
   "source": [
    "def read_fastq(filename):\n",
    "\t\"Reads the sequences and qualities from a .fastq 'filename'.\"\n",
    "\tf = open(filename)\n",
    "\tsequences = []\n",
    "\tqualities = []\n",
    "\n",
    "\twhile True:\n",
    "\t\tf.readline() # skip the read header line (@ symbol)\n",
    "\t\tseq = f.readline().rstrip()\t\t\n",
    "\t\tf.readline() # skip the seperator line (+ symbol)\n",
    "\t\tqual = f.readline().rstrip()\n",
    "\t\tif len(seq) == 0:\n",
    "\t\t\tbreak\n",
    "\t\tsequences.append(seq)\n",
    "\t\tqualities.append(qual)\n",
    "\n",
    "\tf.close()\n",
    "\treturn sequences, qualities \n",
    "\n",
    "filename = 'data/SRR11939920.fastq'\n",
    "seqs, quals = read_fastq(filename)\n",
    "print(\"\\nThe file '%s' has %d sequencing reads.\" % (filename, len(seqs)))"
   ]
  },
  {
   "cell_type": "markdown",
   "metadata": {},
   "source": [
    "### 2.2. Determining the Sequencing Quality of a Reads File\n",
    "\n",
    "Next, we will determine the sequencing quality of sequences from `SRR11939920.fastq` using two methods:\n",
    " \n",
    "1. Finding the Distribution of Bases in Sequences from a Reads File (subsection 2.2.1)\n",
    "2. Creating a Histogram of the Qualities from a Sequence Reads File (subsection 2.2.2)"
   ]
  },
  {
   "cell_type": "markdown",
   "metadata": {},
   "source": [
    "#### 2.2.1. Finding the Distribution of Bases in Sequences from a Reads File\n",
    "\n",
    "Next, we will find the distribution of bases in sequences from `SRR11939920.fastq`."
   ]
  },
  {
   "cell_type": "code",
   "execution_count": 15,
   "metadata": {
    "scrolled": true
   },
   "outputs": [
    {
     "name": "stdout",
     "output_type": "stream",
     "text": [
      "Counter({'A': 22054572, 'T': 21923543, 'G': 15605571, 'C': 15581086, 'N': 212881})\n",
      "\n",
      "N signifies \"no confidence\". The base caller reports N when it has no good evidence to support one base over \n",
      "the others. So when N is low as in 'data/SRR11939920.fastq' which only has only 212881 N count; \n",
      "this means that the file has good quality sequencing reads.\n"
     ]
    }
   ],
   "source": [
    "import collections\n",
    "count = collections.Counter()\n",
    "\n",
    "for read in seqs:\n",
    "\tcount.update(read)\n",
    "print(count)\n",
    "print(\"\\nN signifies \\\"no confidence\\\". The base caller reports N when it has no good evidence to support one base over \\nthe others. So when N is low as in '%s' which only has only %d N count; \\nthis means that the file has good quality sequencing reads.\" % (filename, count['N']))\n"
   ]
  },
  {
   "cell_type": "markdown",
   "metadata": {},
   "source": [
    "#### 2.2.2. Creating a Histogram of the Qualities from Sequencing Reads \n",
    "\n",
    "Next, we will create a histogram of the qualities in the sequence reads file 'data/SRR11939920.fastq'."
   ]
  },
  {
   "cell_type": "code",
   "execution_count": 7,
   "metadata": {},
   "outputs": [
    {
     "name": "stdout",
     "output_type": "stream",
     "text": [
      "[114346, 0, 98535, 0, 0, 0, 0, 0, 0, 0, 0, 0, 0, 0, 4491329, 0, 0, 0, 0, 0, 0, 902608, 0, 0, 0, 0, 0, 999136, 0, 0, 0, 0, 10629624, 0, 0, 0, 58142075, 0, 0, 0, 0, 0, 0, 0, 0, 0, 0, 0, 0, 0]\n"
     ]
    },
    {
     "data": {
      "image/png": "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\n",
      "text/plain": [
       "<Figure size 432x288 with 1 Axes>"
      ]
     },
     "metadata": {
      "needs_background": "light"
     },
     "output_type": "display_data"
    }
   ],
   "source": [
    "def phred33toQ(q):\n",
    "\t\"Converts a phred33 encoded character to a numerical quality.\"\n",
    "\treturn ord(q) - 33 # ord(q) returns the ASCII encoding of 'q'\n",
    "\n",
    "def createHist(qualities):\n",
    "\t\"`Create a Histogram of qualities.\"\n",
    "\thist = [0] * 50 # initialize a list of integers of width 50 to 0s\n",
    "\tfor readQualities in qualities: \n",
    "\t\tfor qual in readQualities: \n",
    "\t\t\thist[phred33toQ(qual)] += 1  # inrement by 1 the relative bin\n",
    "\treturn hist\n",
    "\n",
    "h = createHist(quals) # Create a Histogram of qualitiese 'quals' just read from the file\n",
    "print(h)\n",
    "\n",
    "%matplotlib  inline\n",
    "import matplotlib.pyplot as plt\n",
    "plt.bar(range(len(h)), h)\n",
    "plt.show()  \n"
   ]
  },
  {
   "cell_type": "markdown",
   "metadata": {},
   "source": [
    "### 2.3. Finding GC Content in each Position of Sequencing Reads\n",
    "\n",
    "Next, we will find GC Content in each position of sequences in the sample reads file 'data/SRR11939920.fastq'."
   ]
  },
  {
   "cell_type": "code",
   "execution_count": 8,
   "metadata": {},
   "outputs": [
    {
     "data": {
      "image/png": "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\n",
      "text/plain": [
       "<Figure size 432x288 with 1 Axes>"
      ]
     },
     "metadata": {
      "needs_background": "light"
     },
     "output_type": "display_data"
    }
   ],
   "source": [
    "`def  findGCByPos(reads):\n",
    "\t\"Find GC content in each position of sequences in 'reads'.\"\n",
    "\tgc = [0] * 75 # initialize a list of integers of width 75 to 0s (75 is the read length)\n",
    "\ttotal = [0] * 75 # initialize a list of integers of width 75 to 0s (75 is the read length)\n",
    "\n",
    "\tfor read in reads:\n",
    "\t\tfor i in range(len(read)): \n",
    "\t\t\tif read[i] == 'G' or read[i] == 'C':\n",
    "\t\t\t\tgc[i] += 1 # inrement by 1 the relative bin if the base 'i' is a chararcter 'G' or a chararcter 'C'\n",
    "\t\t\ttotal[i] += 1  # inrement by 1 the relative bin for any base 'i'\n",
    "\tfor i in range(len(gc)):\n",
    "\t\tif not total[i] ==  0:\n",
    "\t\t\tgc[i] /= float(total[i])\n",
    "\treturn gc\n",
    "\n",
    "gc =  findGCByPos(seqs) # Find GC content of sequences 'seqs' just read from the file\n",
    "plt.plot(range(len(gc)), gc)\n",
    "plt.show() \n"
   ]
  },
  {
   "cell_type": "markdown",
   "metadata": {},
   "source": [
    "Indeed, it is known from the literature that the GC content of SARS-CoV-2 viruses is 0.373 소 0.05."
   ]
  }
 ],
 "metadata": {
  "kernelspec": {
   "display_name": "Python 3",
   "language": "python",
   "name": "python3"
  },
  "language_info": {
   "codemirror_mode": {
    "name": "ipython",
    "version": 3
   },
   "file_extension": ".py",
   "mimetype": "text/x-python",
   "name": "python",
   "nbconvert_exporter": "python",
   "pygments_lexer": "ipython3",
   "version": "3.6.9"
  }
 },
 "nbformat": 4,
 "nbformat_minor": 4
}
